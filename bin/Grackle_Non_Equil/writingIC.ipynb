{
 "cells": [
  {
   "cell_type": "code",
   "execution_count": 1,
   "metadata": {},
   "outputs": [
    {
     "name": "stderr",
     "output_type": "stream",
     "text": [
      "/home/kwoksun2/anaconda2/lib/python2.7/site-packages/h5py/__init__.py:36: FutureWarning: Conversion of the second argument of issubdtype from `float` to `np.floating` is deprecated. In future, it will be treated as `np.float64 == np.dtype(float).type`.\n",
      "  from ._conv import register_converters as _register_converters\n"
     ]
    }
   ],
   "source": [
    "import yt.units as u\n",
    "import matplotlib.pyplot as plt\n",
    "import numpy\n",
    "import sys\n",
    "from scipy.integrate import odeint\n",
    "from scipy.interpolate import interp1d"
   ]
  },
  {
   "cell_type": "code",
   "execution_count": 2,
   "metadata": {},
   "outputs": [],
   "source": [
    "def get_jeans_ml( rho, T, mu = 1.6):\n",
    "    \n",
    "    \n",
    "    lambda_J  = numpy.sqrt( 15.0 * T * u.boltzmann_constant * u.K)\n",
    "    lambda_J  = lambda_J / numpy.sqrt(4.0*numpy.pi*u.G * mu* u.mass_hydrogen * rho)\n",
    "    \n",
    "    M_J =  4.0/3.0 * numpy.pi* rho * lambda_J**3\n",
    "    \n",
    "#     print(lambda_J.in_units('pc'))\n",
    "    return M_J.in_units('Msun'), lambda_J.in_units('pc')\n",
    "\n",
    "def get_timescale( rho, T, f = 2.0e-4, mu = 1.6 ):\n",
    "    \n",
    "    U = 3.0/2.0 * rho / mu / u.mass_hydrogen * u.boltzmann_constant * u.K * T\n",
    "    \n",
    "    # tegmark 1997\n",
    "    T3 = T / 1000.0\n",
    "    n  = (rho / mu / u.mass_hydrogen ).in_cgs().v\n",
    "    tau_cool = 48200 * u.yr * ( 1.0 + (10*(T3)**3.5) / ( 60.0 + T3**4 ) )**-1.0 * numpy.exp(512 / T ) * (f * n)**-1.0\n",
    "    \n",
    "    tau_ff = (1.0 / numpy.sqrt( u.G * rho ) ).in_units('yr')\n",
    "    \n",
    "    return tau_cool, tau_ff\n",
    "\n",
    "def get_rho_profile( r, rho, Rs ):\n",
    "#     print(Rs, r)\n",
    "    return rho/ ( (r / Rs) * (1.0  + r/Rs)**2.0 )\n",
    "\n",
    "def get_total_mass( Rs, Rmax, rho ):\n",
    "    total_M = 4.0 * numpy.pi* rho * Rs**3 *( numpy.log( (Rs + Rmax) / Rs ) - Rmax / (Rs + Rmax) )\n",
    "    return total_M\n",
    "                            \n",
    "def rhs(y, r_,rho, Rs):\n",
    "    \n",
    "    # y[0] : rho_g(R)\n",
    "    # y[1] : m(R)\n",
    "    \n",
    "    # r_ in units of pc\n",
    "    # m_r in units of Msun\n",
    "    # rho_g in units of cm**-3\n",
    "    \n",
    "    rho_g = y[0] * u.mass_hydrogen * u.cm**-3\n",
    "    m_r   = y[1] * u.Msun\n",
    "    r_     = r_ * u.pc\n",
    "    rho_d = get_rho_profile(r_, rho, Rs )\n",
    "    \n",
    "    ydot0 = -u.G * m_r / r_ / r_ * (rho_g )\n",
    "    ydot0 /= u.boltzmann_constant * T * u.K / 1.6 / u.mass_hydrogen     \n",
    "    ydot0 = ydot0.in_units('g / cm**3 / pc') / u.mass_hydrogen\n",
    "    \n",
    "    ydot1  = 4.0 * numpy.pi * (rho_d + rho_g ) * r_ * r_     \n",
    "    ydot1 = ydot1.in_units('Msun / pc')\n",
    "    \n",
    "    ydot = numpy.zeros((2))\n",
    "    ydot[0] = ydot0.value\n",
    "    ydot[1] = ydot1.value\n",
    "\n",
    "    return ydot\n",
    "\n",
    "import numpy as np\n",
    "def find_nearest(array, value):\n",
    "    array = np.asarray(array)\n",
    "    idx = (np.abs(array - value)).argmin()\n",
    "    return idx"
   ]
  },
  {
   "cell_type": "code",
   "execution_count": 3,
   "metadata": {},
   "outputs": [],
   "source": [
    "Rmax = 100 * u.pc\n",
    "Rs   = 40.0 * u.pc\n",
    "rho  =  2.0e-22 * u.g * u.cm**-3\n",
    "T = 2000.0\n",
    "\n",
    "r_min = min( numpy.abs(numpy.linspace( -0.5,0.5,96 )) )* 100.0\n",
    "r_max = 2.0 * max( numpy.abs(numpy.linspace( -0.5,0.5,96 )) )* 100.0\n",
    "r = numpy.linspace( r_min , r_max, 5000)\n",
    "# r = numpy.linspace(1e-2, 1e2, 1000)\n",
    "\n",
    "y = numpy.zeros(2)\n",
    "\n",
    "rho_d0 = get_rho_profile(min(r * u.pc ), rho, Rs)\n",
    "rho_g0 = rho_d0 * 0.05\n",
    "\n",
    "y[0] = (rho_g0 / u.mass_hydrogen).value\n",
    "y[1] = ((  rho_g0 + rho_d0 ) *( (min(r * u.pc )**3.0) )  * 4.0/3.0*numpy.pi).in_units('Msun').value\n",
    "\n",
    "\n",
    "sol = odeint(rhs, y, r ,args = (rho, Rs))"
   ]
  },
  {
   "cell_type": "code",
   "execution_count": null,
   "metadata": {},
   "outputs": [],
   "source": []
  },
  {
   "cell_type": "code",
   "execution_count": 4,
   "metadata": {},
   "outputs": [
    {
     "ename": "NameError",
     "evalue": "name 'error_function' is not defined",
     "output_type": "error",
     "traceback": [
      "\u001b[0;31m---------------------------------------------------------------------------\u001b[0m",
      "\u001b[0;31mNameError\u001b[0m                                 Traceback (most recent call last)",
      "\u001b[0;32m<ipython-input-4-c8a6e57738b8>\u001b[0m in \u001b[0;36m<module>\u001b[0;34m()\u001b[0m\n\u001b[0;32m----> 1\u001b[0;31m \u001b[0merror_function\u001b[0m\u001b[0;34m(\u001b[0m \u001b[0;36m10.0\u001b[0m \u001b[0;34m,\u001b[0m \u001b[0;36m1.0e-24\u001b[0m\u001b[0;34m)\u001b[0m\u001b[0;34m\u001b[0m\u001b[0m\n\u001b[0m",
      "\u001b[0;31mNameError\u001b[0m: name 'error_function' is not defined"
     ]
    }
   ],
   "source": [
    "error_function( 10.0 , 1.0e-24)"
   ]
  },
  {
   "cell_type": "code",
   "execution_count": 6,
   "metadata": {},
   "outputs": [],
   "source": [
    "def get_profile( Rs, rho, T = 1000.0 , N = 64, Rmax = 100 * u.pc  ):\n",
    "    \n",
    "    \n",
    "    r_min = min( numpy.abs(numpy.linspace( -1,1, N )) )* Rmax\n",
    "    r_max = 2.0 * max( numpy.abs(numpy.linspace( -1,1,N )) )* Rmax\n",
    "    r = numpy.linspace( r_min , r_max, 10000)\n",
    "    # r = numpy.linspace(1e-2, 1e2, 1000)\n",
    "\n",
    "    y = numpy.zeros(2)\n",
    "\n",
    "    rho_d0 = get_rho_profile(min(r  ), rho, Rs)\n",
    "    rho_g0 = rho_d0 * 0.05\n",
    "\n",
    "    y[0] = (rho_g0 / u.mass_hydrogen).value\n",
    "    y[1] = ((  rho_g0 + rho_d0 ) *( (min(r  )**3.0) )  * 4.0/3.0*numpy.pi).in_units('Msun').value\n",
    "\n",
    "\n",
    "    sol = odeint(rhs, y, r ,args = (rho, Rs))\n",
    "    \n",
    "    return r, sol[:,0], sol[:,1]\n",
    "\n",
    "def error_function(Rs, rho, T = 1000.0*u.K):\n",
    "    Rs *= u.pc\n",
    "    rho*= u.g * u.cm**-3\n",
    "    r, rho_g, M_enc = get_profile( Rs, rho, T = 1000.0 *u.K, N = 64, Rmax = 100 * u.pc  )\n",
    "    \n",
    "    idx = find_nearest(r.v, 100)\n",
    "    \n",
    "    m_g = []\n",
    "    for ir in range(len(r)):\n",
    "        m_g.append(numpy.trapz( (rho_prof * 4.0*numpy.pi * (r)**2.0)[:ir], (r)[:ir] ).in_units('Msun'))\n",
    "    \n",
    "    \n",
    "    mj, _ = get_jeans_ml( rho_g* u.mass_hydrogen * u.cm**-3, T.v, mu = 1.6)\n",
    "    \n",
    "    error = numpy.sqrt(numpy.abs( m_g[idx] - mj[idx] )**2.0)\n",
    "    plt.plot(r, m_g)\n",
    "    plt.plot(r, mj)\n",
    "    plt.show()\n",
    "    return error"
   ]
  },
  {
   "cell_type": "code",
   "execution_count": 7,
   "metadata": {},
   "outputs": [
    {
     "data": {
      "image/png": "[encoded data removed]",
      "text/plain": [
       "<Figure size 432x288 with 1 Axes>"
      ]
     },
     "metadata": {},
     "output_type": "display_data"
    },
    {
     "data": {
      "image/png": "[encoded data removed]",
      "text/plain": [
       "<Figure size 432x288 with 1 Axes>"
      ]
     },
     "metadata": {},
     "output_type": "display_data"
    },
    {
     "data": {
      "image/png": "[encoded data removed]",
      "text/plain": [
       "<Figure size 432x288 with 1 Axes>"
      ]
     },
     "metadata": {},
     "output_type": "display_data"
    }
   ],
   "source": [
    "Rmax = 100 * u.pc\n",
    "Rs   = 10.0 * u.pc\n",
    "rho  =  1.0e-21 * u.g * u.cm**-3\n",
    "T = 1000.0\n",
    "\n",
    "r, rho_g, M_enc = get_profile( Rs, rho, T = T, N = 128, Rmax = 20 * u.pc  )\n",
    "\n",
    "rho_d = get_rho_profile(r, rho, Rs)\n",
    "plt.loglog(r, rho_d , label='DM density')\n",
    "plt.loglog(r, rho_g * 1.0e-24, label='gas density')\n",
    "plt.legend()\n",
    "plt.xlabel('pc')\n",
    "plt.ylabel('g / cm^3')\n",
    "plt.show()\n",
    "\n",
    "rho_prof = rho_g*u.mass_hydrogen* ( u.cm**-3)\n",
    "m_g = []\n",
    "for ir in range(len(r)):\n",
    "    m_g.append(numpy.trapz( (rho_prof * 4.0*numpy.pi * r**2.0)[:ir], r[:ir] ).in_units('Msun'))\n",
    "\n",
    "plt.loglog(r, M_enc, label='halo mass')\n",
    "plt.loglog(r, m_g, label='gas mass')\n",
    "mj, _ = get_jeans_ml( rho_prof, T, mu = 1.6)\n",
    "mj200, _ = get_jeans_ml( rho_prof, 200.0, mu = 1.6)\n",
    "plt.loglog(r, mj, label='jeans mass')\n",
    "plt.loglog(r, mj200, label='jeans mass @ 200K')\n",
    "\n",
    "plt.legend()\n",
    "plt.xlabel('pc')\n",
    "plt.ylabel('Enclosed Mass (Msun)')\n",
    "plt.show()\n",
    "\n",
    "plt.semilogx(r, m_g/ M_enc)\n",
    "plt.xlabel('pc')\n",
    "plt.ylabel('Mg / Mh')\n",
    "plt.show()\n",
    "\n",
    "\n",
    "density_profile =  interp1d( r, rho_g )\n",
    "\n",
    "def energy_profile(r, mu = 1.6):\n",
    "    rho_r = density_profile( r )\n",
    "    Ur   = 1.5*(rho_r *u.mass_hydrogen *u.cm**-3 * u.boltzmann_constant * u.K * T / mu / u.mass_hydrogen).in_cgs()\n",
    "    return Ur\n",
    "\n",
    "def momentumx_profile(r):\n",
    "    return numpy.zeros(len(r))\n",
    "def momentumy_profile(r):\n",
    "    return numpy.zeros(len(r))\n",
    "def momentumz_profile(r):\n",
    "    return numpy.zeros(len(r))"
   ]
  },
  {
   "cell_type": "code",
   "execution_count": 8,
   "metadata": {},
   "outputs": [],
   "source": [
    "def get_unit(filename='Input__Parameter'):\n",
    "    unit_dict = {}\n",
    "    unset_units = []\n",
    "    with open(filename, 'r') as f:\n",
    "        for line in f.readlines():\n",
    "#             print(line)\n",
    "            if \"UNIT_\" in line[:5]:\n",
    "                ele = line.split()\n",
    "                unit_dict[ele[0]] = float(ele[1])\n",
    "                if float(ele[1]) < 0:\n",
    "                    unset_units.append(ele[0])\n",
    "    \n",
    "    for unit in unset_units:\n",
    "        if unit[-1] == 'V':\n",
    "            unit_dict[unit] = unit_dict['UNIT_L'] / unit_dict['UNIT_T']\n",
    "        elif unit[-1] == 'D':\n",
    "            unit_dict[unit] = unit_dict['UNIT_M'] / unit_dict['UNIT_L']**3\n",
    "    \n",
    "    return unit_dict\n",
    "           "
   ]
  },
  {
   "cell_type": "code",
   "execution_count": 9,
   "metadata": {},
   "outputs": [],
   "source": [
    "NX = 128\n",
    "NY = 128\n",
    "NZ = 128\n",
    "\n",
    "Lx = 20.0\n",
    "Ly = 20.0\n",
    "Lz = 20.0\n",
    "\n",
    "NFIELD = 5 + 9 #+ 4\n",
    "\n",
    "# function to read in the scale in INPUT_PARAMTER file\n",
    "\n",
    "i_array = numpy.linspace(-1.0,1.0,NX) * Lx\n",
    "j_array = numpy.linspace(-1.0,1.0,NY) * Ly\n",
    "k_array = numpy.linspace(-1.0,1.0,NZ) * Lz\n",
    "\n",
    "k3d, j3d, i3d = numpy.meshgrid(k_array,j_array,i_array)\n",
    "R = numpy.sqrt(k3d**2 + j3d**2 + i3d**2)\n",
    "\n",
    "\n",
    "unit_dict = get_unit()\n",
    "UNIT_D = unit_dict['UNIT_D']\n",
    "UNIT_L = unit_dict['UNIT_L']\n",
    "UNIT_M = unit_dict['UNIT_M']\n",
    "UNIT_E = unit_dict['UNIT_M'] * unit_dict['UNIT_V'] * unit_dict['UNIT_V']\n",
    "\n",
    "DENS = density_profile(R) * u.mass_hydrogen.in_cgs().v/ UNIT_D\n",
    "ENGY = energy_profile(R).in_cgs().v / ( UNIT_E / UNIT_L**3 )\n",
    "MOMX = numpy.zeros((NZ,NY,NX))\n",
    "MOMY = numpy.zeros((NZ,NY,NX))\n",
    "MOMZ = numpy.zeros((NZ,NY,NX))\n",
    "ZEROS = numpy.zeros((NZ,NY,NX))\n",
    "\n",
    "UM_IC = numpy.zeros((NFIELD, NZ,NY,NX))\n",
    "UM_IC[0] = DENS\n",
    "UM_IC[1] = MOMX\n",
    "UM_IC[2] = MOMX\n",
    "UM_IC[3] = MOMX\n",
    "UM_IC[4] = ENGY\n",
    "\n",
    "Idx_e     = 5\n",
    "Idx_HI    = 6\n",
    "Idx_HII   = 7\n",
    "Idx_HeI   = 8\n",
    "Idx_HeII  = 9\n",
    "Idx_HeIII = 10\n",
    "Idx_HM    = 11\n",
    "Idx_H2I   = 12\n",
    "Idx_H2II  = 13\n",
    "Idx_CoolingTime     = 14\n",
    "Idx_Gamma           = 15\n",
    "Idx_MolecularWeight = 16\n",
    "Idx_Temperature     = 17\n",
    "\n",
    "UM_IC[Idx_e]    = DENS * 1.0e-20\n",
    "UM_IC[Idx_HI]   = DENS * 0.76\n",
    "UM_IC[Idx_HII]  = DENS * 1.0e-20\n",
    "UM_IC[Idx_HeI]  = DENS * 0.24\n",
    "UM_IC[Idx_HeII] = DENS * 1.0e-20\n",
    "UM_IC[Idx_HeIII]= DENS * 1.0e-20\n",
    "UM_IC[Idx_HM]   = DENS * 1.0e-20\n",
    "UM_IC[Idx_H2I]  = DENS * 5.0e-4\n",
    "UM_IC[Idx_H2II] = DENS * 1.0e-20\n",
    "\n",
    "# UM_IC[Idx_CoolingTime]     = ZEROS\n",
    "# UM_IC[Idx_Gamma]           = ZEROS\n",
    "# UM_IC[Idx_MolecularWeight] = ZEROS\n",
    "# UM_IC[Idx_Temperature    ] = ZEROS\n"
   ]
  },
  {
   "cell_type": "code",
   "execution_count": 10,
   "metadata": {},
   "outputs": [],
   "source": [
    "with open(\"UM_IC\", 'w') as f:\n",
    "    UM_IC.tofile(f)"
   ]
  },
  {
   "cell_type": "code",
   "execution_count": 11,
   "metadata": {},
   "outputs": [
    {
     "data": {
      "text/plain": [
       "YTArray([ 0.15748031,  0.16146497,  0.16544962, ..., 39.9920307 ,\n",
       "         39.99601535, 40.        ]) pc"
      ]
     },
     "execution_count": 11,
     "metadata": {},
     "output_type": "execute_result"
    }
   ],
   "source": [
    "r "
   ]
  },
  {
   "cell_type": "code",
   "execution_count": 112,
   "metadata": {},
   "outputs": [
    {
     "data": {
      "text/plain": [
       "0.9116056881941488"
      ]
     },
     "execution_count": 112,
     "metadata": {},
     "output_type": "execute_result"
    }
   ],
   "source": [
    "R.min()"
   ]
  },
  {
   "cell_type": "code",
   "execution_count": null,
   "metadata": {},
   "outputs": [],
   "source": []
  },
  {
   "cell_type": "code",
   "execution_count": 35,
   "metadata": {},
   "outputs": [],
   "source": [
    "def bytes_from_file(filename, chunksize=8192):\n",
    "    with open(filename, \"rb\") as f:\n",
    "        while True:\n",
    "            chunk = f.read(chunksize)\n",
    "            if chunk:\n",
    "                yield str(chunk)\n",
    "            else:\n",
    "                break"
   ]
  },
  {
   "cell_type": "code",
   "execution_count": 44,
   "metadata": {},
   "outputs": [],
   "source": [
    "import numpy"
   ]
  },
  {
   "cell_type": "code",
   "execution_count": 10,
   "metadata": {},
   "outputs": [],
   "source": [
    "import struct"
   ]
  },
  {
   "cell_type": "code",
   "execution_count": 18,
   "metadata": {},
   "outputs": [
    {
     "data": {
      "text/plain": [
       "(0.0,)"
      ]
     },
     "execution_count": 18,
     "metadata": {},
     "output_type": "execute_result"
    }
   ],
   "source": [
    "struct.unpack('f', all_data)"
   ]
  },
  {
   "cell_type": "code",
   "execution_count": 14,
   "metadata": {},
   "outputs": [
    {
     "data": {
      "text/plain": [
       "\u001b[0;31mDocstring:\u001b[0m\n",
       "Unpack the string containing packed C structure data, according to fmt.\n",
       "Requires len(string) == calcsize(fmt).\n",
       "\u001b[0;31mType:\u001b[0m      builtin_function_or_method\n"
      ]
     },
     "metadata": {},
     "output_type": "display_data"
    }
   ],
   "source": [
    "struct.unpack??"
   ]
  },
  {
   "cell_type": "code",
   "execution_count": 189,
   "metadata": {},
   "outputs": [
    {
     "ename": "AttributeError",
     "evalue": "'module' object has no attribute 'Pa'",
     "output_type": "error",
     "traceback": [
      "\u001b[0;31m---------------------------------------------------------------------------\u001b[0m",
      "\u001b[0;31mAttributeError\u001b[0m                            Traceback (most recent call last)",
      "\u001b[0;32m<ipython-input-189-f6db0f63f398>\u001b[0m in \u001b[0;36m<module>\u001b[0;34m()\u001b[0m\n\u001b[0;32m----> 1\u001b[0;31m \u001b[0mu\u001b[0m\u001b[0;34m.\u001b[0m\u001b[0mPa\u001b[0m\u001b[0;34m.\u001b[0m\u001b[0min_units\u001b[0m\u001b[0;34m(\u001b[0m\u001b[0;34m'N/m**2'\u001b[0m\u001b[0;34m)\u001b[0m\u001b[0;34m\u001b[0m\u001b[0m\n\u001b[0m",
      "\u001b[0;31mAttributeError\u001b[0m: 'module' object has no attribute 'Pa'"
     ]
    }
   ],
   "source": []
  },
  {
   "cell_type": "code",
   "execution_count": null,
   "metadata": {},
   "outputs": [],
   "source": []
  }
 ],
 "metadata": {
  "kernelspec": {
   "display_name": "Python 2",
   "language": "python",
   "name": "python2"
  },
  "language_info": {
   "codemirror_mode": {
    "name": "ipython",
    "version": 2
   },
   "file_extension": ".py",
   "mimetype": "text/x-python",
   "name": "python",
   "nbconvert_exporter": "python",
   "pygments_lexer": "ipython2",
   "version": "2.7.14"
  }
 },
 "nbformat": 4,
 "nbformat_minor": 2
}
